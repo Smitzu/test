{
 "cells": [
  {
   "cell_type": "markdown",
   "id": "1ab0f936",
   "metadata": {},
   "source": [
    "# Data Science Tools and Ecosystem"
   ]
  },
  {
   "cell_type": "markdown",
   "id": "cf61dd1f",
   "metadata": {},
   "source": [
    "In this notebook, Data Science Tools and Ecosystem are summarized."
   ]
  },
  {
   "cell_type": "markdown",
   "id": "8ab57154",
   "metadata": {},
   "source": [
    "Some of the popular languages that Data Scientists use are:\n",
    "\n",
    "1. Python\n",
    "\n",
    "2. R\n",
    "\n",
    "3. SQL\n",
    "\n",
    "4. Scala\n",
    "\n",
    "5. Java\n",
    "\n",
    "6. C++\n",
    "\n",
    "7. Julia\n"
   ]
  },
  {
   "cell_type": "markdown",
   "id": "e44bc04c",
   "metadata": {},
   "source": [
    "Some of the commonly used libraries used by Data Scientists include: \n",
    "\n",
    "1. Pandas\n",
    "\n",
    "2. NumPy\n",
    "\n",
    "3. SciPy\n",
    "\n",
    "4. Matplotlib\n",
    "\n",
    "5. Seaborn"
   ]
  },
  {
   "cell_type": "markdown",
   "id": "bf169ab9",
   "metadata": {},
   "source": [
    "| Data Science Tools |\n",
    "| -------------| \n",
    "| Anaconda (Jupyter Notebook) | \n",
    "| Rstudio | \n",
    "| TensorFlow | "
   ]
  },
  {
   "cell_type": "markdown",
   "id": "56af9ec6",
   "metadata": {},
   "source": [
    "### Below are a few examples of evaluating arithmetic expressions in Python"
   ]
  },
  {
   "cell_type": "code",
   "execution_count": 13,
   "id": "8e510358",
   "metadata": {},
   "outputs": [
    {
     "data": {
      "text/plain": [
       "17"
      ]
     },
     "execution_count": 13,
     "metadata": {},
     "output_type": "execute_result"
    }
   ],
   "source": [
    "# This a simple arithmetic expression to mutiply then add integers\n",
    "(3*4)+5"
   ]
  },
  {
   "cell_type": "code",
   "execution_count": 14,
   "id": "bfed0df5",
   "metadata": {},
   "outputs": [
    {
     "data": {
      "text/plain": [
       "3.3333333333333335"
      ]
     },
     "execution_count": 14,
     "metadata": {},
     "output_type": "execute_result"
    }
   ],
   "source": [
    "# This will convert 200 minutes to hours by diving by 60\n",
    "200/60"
   ]
  },
  {
   "cell_type": "markdown",
   "id": "d6aa2753",
   "metadata": {},
   "source": [
    "**Objectives:**\n",
    "+ Some of the popular languages used in data science\n",
    "+ Some of the commonly used libraries used in data science\n",
    "+ Some of the commonly development environment open source tools used in data science"
   ]
  },
  {
   "cell_type": "markdown",
   "id": "f25ddb10",
   "metadata": {},
   "source": [
    "## Author  \n",
    "S. J."
   ]
  },
  {
   "cell_type": "code",
   "execution_count": null,
   "id": "55d9facd",
   "metadata": {},
   "outputs": [],
   "source": []
  }
 ],
 "metadata": {
  "kernelspec": {
   "display_name": "Python 3 (ipykernel)",
   "language": "python",
   "name": "python3"
  },
  "language_info": {
   "codemirror_mode": {
    "name": "ipython",
    "version": 3
   },
   "file_extension": ".py",
   "mimetype": "text/x-python",
   "name": "python",
   "nbconvert_exporter": "python",
   "pygments_lexer": "ipython3",
   "version": "3.9.13"
  }
 },
 "nbformat": 4,
 "nbformat_minor": 5
}
